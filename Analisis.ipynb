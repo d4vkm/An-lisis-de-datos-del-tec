{
 "cells": [
  {
   "cell_type": "markdown",
   "metadata": {
    "jp-MarkdownHeadingCollapsed": true
   },
   "source": [
    "## Ask\n",
    "### Preguntas guía\n",
    "- ¿Cuáles temas estas explorando?\n",
    "- ¿Cual es el problema que tratas de resolver?\n",
    "- ¿Cuáles metricas usarás para medir los datos para alcanzar el objetivo?\n",
    "- ¿Quienes son los _stakeholders_?\n",
    "- ¿Quién es tu audiencia?\n",
    "- ¿Como tus conocimientos pueden ayudar al cliente a tomar una decisión?\n",
    "### Tareas Clave\n",
    "- Identificar la tarea empresarial \n",
    "- Determinar los _stakeholders_ clave\n",
    "- Seleccionar un _dataset_\n",
    "- Establecer metricas\n",
    "### Entregables\n",
    "- Un párrafo claro con la tarea empresarial que ha seleccionado investigar\n",
    "\n",
    "\n"
   ]
  },
  {
   "cell_type": "markdown",
   "metadata": {},
   "source": []
  },
  {
   "cell_type": "markdown",
   "metadata": {},
   "source": [
    "## Prepare\n",
    "### Preguntas guía \n",
    "- ¿Dónde se encuentran tus datos?\n",
    "- ¿Como están organizados?\n",
    "- ¿Hay algún problema de sesgo o credibilidad en tus datos ?\n",
    "- ¿Como manejas el tema de la licencia de uso, privacidad, seguridad y accesibilidad ? \n",
    "- ¿Como verificaste la integridad de los datos?\n",
    "- ¿Como te ayuda a responder tu pregunta ? \n",
    "- ¿Hay algún problema con los datos ?\n",
    "### Tareas clave \n",
    "- Descargar los datos y almacenarlos en forma apropiada\n",
    "- Identificar como están organizados\n",
    "- Ordenar y filtrar los datos \n",
    "- Determinar la credibilidad de los datos\n",
    "### Entregables\n",
    "- Una descripción de todas las fuentes de datos usadas\n",
    "\n"
   ]
  },
  {
   "cell_type": "code",
   "execution_count": null,
   "metadata": {},
   "outputs": [],
   "source": []
  },
  {
   "cell_type": "markdown",
   "metadata": {},
   "source": [
    "## Process\n",
    "### Preguntas guía \n",
    "- ¿Que herramientas has escogido y por qué ? \n",
    "- ¿Te has asegurado de la integridad de tus datos?\n",
    "- Que pasos has tomado para asegurarte que tus datos están limpios?\n",
    "- ¿Como puedes verificar que tus datos están limpios y listos para analizar?\n",
    "- Has documentado tu proceso de limpieza de tal forma que puedes ser revisados y compartidos esos resultados ? \n",
    "### Tareas clave \n",
    "- Escoger tus herramientas \n",
    "- Transformar tus datos de tal forma que puedas trabajar con ellos en forma efectiva\n",
    "- Documentar el proceso de limpieza\n",
    "### Entregables\n",
    "- Documentación de cualquier tipo de limpieza y manipulación de datos\n",
    "\n",
    "\n"
   ]
  },
  {
   "cell_type": "code",
   "execution_count": null,
   "metadata": {},
   "outputs": [],
   "source": []
  },
  {
   "cell_type": "markdown",
   "metadata": {},
   "source": [
    "## Analyze\n",
    "\n",
    "### Preguntas guía \n",
    "- ¿Cómo debes organizar tus datos para llevar a cabo su análisis\n",
    "- ¿Están tus datos debidamentes formateados?\n",
    "- ¿Que sorpresas has encontrado en los datos?\n",
    "- ¿Cuáles tendencias o relaciones has encontrado en los datos?\n",
    "- ¿Como te ayudan estos descubrimientos a responder las preguntas empresariales?\n",
    "\n",
    "### Tareas clave \n",
    "- Agregar y resumir tus datos para que sean útiles y accesibles\n",
    "- Organizar y formatear tus datos\n",
    "- Realizar calculos\n",
    "- Documentar tus cálculos para darle seguimiento a tus pasos de análisis\n",
    "- Identificar tendencias y relaciones \n",
    "- Modelado\n",
    "\n",
    "### Entregables\n",
    "- Un resumen de tu análisis\n",
    "\n",
    "### Pasos a seguir\n",
    "- Importar los datos\n",
    "- Hacer las columnas consistentes y únalas en un solo dataframe\n",
    "- Limpie y resuma sus datos para analizar\n",
    "- Realice un analisis descriptivo\n",
    "- Exportar un archivo de resumen (csv) para análisis posterior\n",
    "- Modelado\n",
    "- Comparación y optimización de modelos\n",
    "- Validación y prueba\n"
   ]
  },
  {
   "cell_type": "code",
   "execution_count": null,
   "metadata": {},
   "outputs": [],
   "source": []
  },
  {
   "cell_type": "markdown",
   "metadata": {},
   "source": [
    "\n",
    "## Share\n",
    "### Preguntas guía \n",
    "- ¿Fuiste capaz de contestar la pregunta empresarial? \n",
    "- ¿Qué histpria cuentan tus datos? \n",
    "- ¿Cómo se relacionan tus descubrimientos con la pregunta original?\n",
    "- ¿Quién es tu audiencia?\n",
    "- ¿Cuál es la mejor forma de comunicarte con ellos?\n",
    "- ¿Puede ayudarte la visualización de datos a compartir tus descubrimientos?\n",
    "- ¿Es tu presentación accesible para tu audiencia?\n",
    "### Tareas clave \n",
    "- Determinar la mejor forma de compartir tus descubrimientos\n",
    "- Crear visualizaciones de datos efectivas \n",
    "- Presentar tus descubrimientos \n",
    "- Asegurar que su presentación sea accesible\n",
    "### Entregables\n",
    "- Descubrimientos clave y visualizaciones de soporte\n",
    "\n",
    "\n"
   ]
  },
  {
   "cell_type": "code",
   "execution_count": null,
   "metadata": {},
   "outputs": [],
   "source": []
  },
  {
   "cell_type": "markdown",
   "metadata": {},
   "source": [
    "## Act\n",
    "### Preguntas guía \n",
    "- ¿Cuál es tu conclusión final basada en tu análisis?\n",
    "- Como puede tu equipo y organización/empresa aplicar tus descubrimientos?\n",
    "- ¿Que pasos tomarán tu o los _stakeholders_ basado en tus descubrimientos? \n",
    "- ¿Hay datos adicionales que pudieras usar para expandir tus descubrimientos?\n",
    "### Tareas clave \n",
    "- Practica la presentación de tu caso de estudio a un amigo o familiar\n",
    "### Entregables\n",
    "- Tus descubrimientos mas importantes basado en tu análisis \n",
    "- Una lista adicional de entregables que creas será útil incluir para exploración posterior\n"
   ]
  },
  {
   "cell_type": "code",
   "execution_count": null,
   "metadata": {},
   "outputs": [],
   "source": []
  },
  {
   "cell_type": "markdown",
   "metadata": {},
   "source": []
  }
 ],
 "metadata": {
  "kernelspec": {
   "display_name": "Python 3 (ipykernel)",
   "language": "python",
   "name": "python3"
  },
  "language_info": {
   "codemirror_mode": {
    "name": "ipython",
    "version": 3
   },
   "file_extension": ".py",
   "mimetype": "text/x-python",
   "name": "python",
   "nbconvert_exporter": "python",
   "pygments_lexer": "ipython3",
   "version": "3.11.2"
  }
 },
 "nbformat": 4,
 "nbformat_minor": 4
}
